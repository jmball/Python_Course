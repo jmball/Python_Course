{
 "cells": [
  {
   "cell_type": "markdown",
   "metadata": {},
   "source": [
    "# Instrument control\n",
    "Once you've got data analysis nailed, the next step to being even more powerful with Python is to start automating your experiments. For example, this could allow you to set up experiments to run overnight, analyse themselves, and prepare a report, all while you're at home asleep!\n",
    "\n",
    "In a typical experimental setup you might have several pieces of apparatus, all made by different companies and no obvious way to communicate between them. Particularly for experiments that you have to repeat fairly regularly where you have several parameters to vary, controlling everything manually will take a lot of your time. The best solution is to write a program to do it for you. What most lab equipment has in common is the ability to accept commands over serial or gpib connections in a standard way. This means a master program that can communicate with these protocals can, in principle, address many instruments together. \n",
    "\n",
    "Python can have this ability with the [PyVISA module](https://pyvisa.readthedocs.org/en/stable/index.html). To get the PyVISA module working you should first install the National Instruments VISA library for your operating system: from [here](http://www.ni.com/download/ni-visa-14.0.2/5075/en/) for Mac, from [here](http://www.ni.com/download/ni-visa-5.4.1/4626/en/) for Windows, or from [here](http://www.ni.com/download/ni-visa-5.4.1/4629/en/) for Linux. Then you can install the PyVISA module. Anaconda doesn't come with PyVISA built-in but we can install it with [pip](https://pip.pypa.io/en/stable/). To do so, open the Anaconda prompt or terminal (on Windows search for \"Anaconda Prompt\" from the start menu). Then type `pip install pyvisa` into the prompt and press return. If you are asked whether to `Proceed?`, confirm the installation by typing `y`. When it's finished, you can check whether PyVISA is available in your environment by typing `conda list` and pressing return. This gives you a list of all your modules and PyVISA should now be one of them.\n",
    "\n",
    "PyVISA contains a lot of functions but you'll usually only need a small subset of them to issue commands to instruments. However, each instrument most likely requires its own unique set of commands to access its functionality. You have to find these in the documentation for your instrument but often it's not that hard. If your instruments are fairly standard there will usually be examples available online. Here we'll go through a quick example for making I-V sweeps with a Keithley 2614B source measure unit. First we import the module. We'll also include NumPy to manipulate our data matplotlib to plot it. "
   ]
  },
  {
   "cell_type": "code",
   "execution_count": 1,
   "metadata": {
    "collapsed": true
   },
   "outputs": [],
   "source": [
    "%matplotlib inline\n",
    "import pyvisa\n",
    "import matplotlib.pyplot as plt\n",
    "import numpy as np"
   ]
  },
  {
   "cell_type": "markdown",
   "metadata": {},
   "source": [
    "We need to create a resource manager to access the connected instruments. This allows us to see what's connected to the computer using the `list_resources()` method of the resource manager."
   ]
  },
  {
   "cell_type": "code",
   "execution_count": 2,
   "metadata": {
    "collapsed": false
   },
   "outputs": [
    {
     "data": {
      "text/plain": [
       "('GPIB0::26::INSTR',)"
      ]
     },
     "execution_count": 2,
     "metadata": {},
     "output_type": "execute_result"
    }
   ],
   "source": [
    "rm = pyvisa.ResourceManager() # Create the resource manager\n",
    "rm.list_resources()"
   ]
  },
  {
   "cell_type": "markdown",
   "metadata": {},
   "source": [
    "Then we can open a connection to the instrument using it's address name and assign the connection to a variable to more easily call methods available to it."
   ]
  },
  {
   "cell_type": "code",
   "execution_count": 3,
   "metadata": {
    "collapsed": false
   },
   "outputs": [],
   "source": [
    "keithley2614B = rm.open_resource(rm.list_resources()[0])"
   ]
  },
  {
   "cell_type": "markdown",
   "metadata": {},
   "source": [
    "There are essentially three methods we'll use to communicate with an instrument once we've opened the connection: `write`, `read`, and `query`. Let's use a `query` (first writing a command and then reading the response) to find out the identity of our instrument. To get this information from a Keithley 2400 the command it requires is `'*IDN?'`. This is the part that is instrument specific and you need to look it up in the instrument documentation."
   ]
  },
  {
   "cell_type": "code",
   "execution_count": 4,
   "metadata": {
    "collapsed": false
   },
   "outputs": [
    {
     "data": {
      "text/plain": [
       "'Keithley Instruments Inc., Model 2614B, 4012211, 3.1.0\\n'"
      ]
     },
     "execution_count": 4,
     "metadata": {},
     "output_type": "execute_result"
    }
   ],
   "source": [
    "keithley2614B.query('*IDN?')"
   ]
  },
  {
   "cell_type": "markdown",
   "metadata": {},
   "source": [
    "To make the Keithey 2400 carry out a voltage sweep, we first need to set up some initial parameters. These are issued using the `write` function. We'll put these in a function as we'll most likely use it again for other programs."
   ]
  },
  {
   "cell_type": "code",
   "execution_count": 5,
   "metadata": {
    "collapsed": true
   },
   "outputs": [],
   "source": [
    "def k2614B_setup(sfunc, mfunc, v_range, i_range, delay):\n",
    "    \"\"\"\n",
    "    Setup the Keithley 2400 for a voltage sweep.\n",
    "    \"\"\"\n",
    "    \n",
    "    keithley2614B.write('smua.source.output = smua.OUTPUT_OFF') # Disable the output\n",
    "    keithley2614B.write('smua.source.func = smua.OUTPUT_'+sfunc) # Set source mode to voltage\n",
    "    keithley2614B.write('display.smua.measure.func = display.MEASURE_DCAMPS') # Set source mode to voltage\n",
    "    keithley2614B.write('smua.measure.rangev = '+str(v_range)) # Set the voltage range\n",
    "    keithley2614B.write('smua.measure.rangei = '+str(i_range)) # Set the current range\n",
    "    keithley2614B.write('smua.measure.delay = '+str(delay)) # Set the delay"
   ]
  },
  {
   "cell_type": "markdown",
   "metadata": {},
   "source": [
    "Then we can create a function for our main I-V sweep. The Keithley 2400 has a separate command for performing a sweep but as an illustration of how Python can be helpful in instrument control, we'll make ours with a `for` loop as you would if you have more complicated experimental conditions."
   ]
  },
  {
   "cell_type": "code",
   "execution_count": 6,
   "metadata": {
    "collapsed": true
   },
   "outputs": [],
   "source": [
    "def k2614B_iv_sweep(v_sweep):\n",
    "    \"\"\"\n",
    "    Perform a current-voltage list sweep for voltages in v_sweep and return the results\n",
    "    \"\"\"\n",
    "    \n",
    "    keithley2614B.write('smua.source.output = smua.OUTPUT_ON') # Turn on output\n",
    "    \n",
    "    currents = []\n",
    "    for voltage in v_sweep:\n",
    "        keithley2614B.write('smua.source.levelv = '+str(voltage)) # Set the voltage\n",
    "        data = keithley2614B.ask('print(smua.measure.i())') # Measure the current\n",
    "        currents.append(float(data))\n",
    "    \n",
    "    keithley2614B.write('smua.source.output = smua.OUTPUT_OFF') # Disable output after sweep has finished\n",
    "    \n",
    "    return currents"
   ]
  },
  {
   "cell_type": "markdown",
   "metadata": {},
   "source": [
    "Now we can set the conditions that we want to use in our measurement, call our functions, and plot the output."
   ]
  },
  {
   "cell_type": "code",
   "execution_count": 7,
   "metadata": {
    "collapsed": false
   },
   "outputs": [
    {
     "name": "stdout",
     "output_type": "stream",
     "text": [
      "Resistance = 1747.65426443 ohms\n"
     ]
    },
    {
     "data": {
      "image/png": "[encoded data removed]",
      "text/plain": [
       "<matplotlib.figure.Figure at 0x841e7b8>"
      ]
     },
     "metadata": {},
     "output_type": "display_data"
    }
   ],
   "source": [
    "# Settings\n",
    "sfunc = 'DCVOLTS' # source function is voltage\n",
    "mfunc = 'DCAMPS' # source function is voltage\n",
    "v_range = 3 # voltage range\n",
    "i_range = 0.2 # current range\n",
    "delay = 1 # source delay\n",
    "v_sweep = np.arange(-1.05,1.35,0.3)\n",
    "\n",
    "# Setup Keithley 2614B and perform the sweep\n",
    "k2614B_setup(sfunc, mfunc, v_range, i_range, delay)\n",
    "currents = k2614B_iv_sweep(v_sweep)\n",
    "\n",
    "plt.scatter(v_sweep, currents)\n",
    "plt.axis([min(v_sweep),max(v_sweep),min(currents),max(currents)])\n",
    "\n",
    "print('Resistance = '+str(np.mean(v_sweep/currents))+' ohms')"
   ]
  },
  {
   "cell_type": "markdown",
   "metadata": {},
   "source": [
    "# Other useful stuff to know\n",
    "## Other packages\n",
    "We've covered a decent amount of the Python toolkit that's useful for scientists and engineers and it should cover most of your requirements. But that's by no means everything. There are two other packages we haven't had time to look at that I think are the next most useful and may come up in some of your future applications:\n",
    "\n",
    "\n",
    "* [Pandas](http://pandas.pydata.org/) - This is a package for database management. It's particularly good at handling very large data sets and data sets with mixed data types.\n",
    "\n",
    "\n",
    "* [SymPy](http://www.sympy.org/en/index.html) - A package for symbolic mathemathics. A bit like Mathematica/Wolfram Alpha, it can solve algebraic expressions symbolically.\n",
    "\n",
    "## Package management\n",
    "As we highlighted earlier in the lesson, the Anaconda distribution might not include *everything* you need. There may be times where you need to update/install/uninstall stuff. Managing modules is done in the terminal/command prompt and it's best to use the Anaconda shell (in Windows search for \"Anaconda Prompt\" from the start menu). The recommended package manager that comes with Anaconda is [Conda](http://conda.pydata.org/docs/). The most useful commands are the following:\n",
    "\n",
    "\n",
    "* `conda list` - lists all packages installed in the current environment\n",
    "\n",
    "\n",
    "* `conda search [name]` - check if the package called [name] is available to install from conda (don't include square brackets)\n",
    "\n",
    "\n",
    "* `conda install [name]` - installs the package called [name]\n",
    "\n",
    "\n",
    "* `conda remove [name]` - removes the package called [name]\n",
    "\n",
    "\n",
    "* `conda info [name]` - get info about package called [name]\n",
    "\n",
    "\n",
    "* `conda update [name]` - update the package called [name]\n",
    "\n",
    "\n",
    "* `conda update anaconda` - update all packages installed with conda as a stable distribution\n",
    "\n",
    "\n",
    "Sometimes you can find that a package is not available to install with Conda. This is usually because it hasn't been tested as stable and compatible with the other installed packages. However, that doesn't mean it's not stable. In this case you can try [pip](https://pip.pypa.io/en/stable/), which has access to a much wider range of packages. The command you need is `pip install [name]`. Anything installed with pip should be managed with pip with commands like `pip update [name]`. If you have a problem with one of these packages you can use `pip uninstall [name]`.\n",
    "\n",
    "\n",
    "\n",
    "## Other tips for IPython/Jupyter\n",
    "Jupyter offers a lot of other tricks that make your coding more efficient. Here is a complete [manual](http://jupyter.cs.brynmawr.edu/hub/dblank/public/Jupyter%20Notebook%20Users%20Manual.ipynb) if you want to get to know all of its functionality.\n",
    "\n",
    "### Keyboard shortcuts\n",
    "For starters, you have several keyboard shortcuts. To find out what they are, click `Help` > `Keyboard Shortcuts` on the toolbar. One of the most useful is tab completion, where you can press tab at any time to get a list of available options depending on what you've already typed. This can be very useful if you have to re-type long variable names, navigate a file path, or see what methods are available to an object.\n",
    "\n",
    "### Markdown cells\n",
    "Aside from code cells, Jupyter offers Markdown cells for rich-text allowing you to format your code and comments as an easily readable notebook (like this one!). To convert a code cell to a Markdown cell, press `Esc`, then `m`. For a guide on how to use Markdown in Jupyter you can look [here](http://jupyter.cs.brynmawr.edu/hub/dblank/public/Jupyter%20Notebook%20Users%20Manual.ipynb#4.-Using-Markdown-Cells-for-Writing) or use this [cheat sheet](http://nestacms.com/docs/creating-content/markdown-cheat-sheet). Equations in Markdown can be generated with TeX [commands](http://meta.math.stackexchange.com/questions/5020/mathjax-basic-tutorial-and-quick-reference).\n",
    "\n",
    "### Raw cells\n",
    "No rich-text, no syntax highlighting, no execution, just raw text. Press `Esc`, then `r` to make a cell a raw cell.\n",
    "\n",
    "## Other editors\n",
    "Some people don't like working in code blocks with IPython/Jupyter and prefer a different style. Two alternatives that are worth a look are:\n",
    "\n",
    "\n",
    "* [Spyder](https://pythonhosted.org/spyder/) - MATLAB-like enviroment with separate panes for code, output, object inspection. This comes with Anaconda so you should have it already.\n",
    "\n",
    "\n",
    "* [PyCharm](https://www.jetbrains.com/pycharm/) - Mainly intended for web development but shows input and output, offers lots of features to code efficiently, and looks cool. I haven't used this one but it's worth a try if Jupyter isn't your thing.\n",
    "\n",
    "## Python style\n",
    "Python's principle philosophy as a programming language is that the code should be expressive, easy to read, and there should be only one obvious way to do something. If you agree with this philosophy and need a reminder of some guiding principles to follow, Python has something for you."
   ]
  },
  {
   "cell_type": "code",
   "execution_count": 8,
   "metadata": {
    "collapsed": false
   },
   "outputs": [
    {
     "name": "stdout",
     "output_type": "stream",
     "text": [
      "The Zen of Python, by Tim Peters\n",
      "\n",
      "Beautiful is better than ugly.\n",
      "Explicit is better than implicit.\n",
      "Simple is better than complex.\n",
      "Complex is better than complicated.\n",
      "Flat is better than nested.\n",
      "Sparse is better than dense.\n",
      "Readability counts.\n",
      "Special cases aren't special enough to break the rules.\n",
      "Although practicality beats purity.\n",
      "Errors should never pass silently.\n",
      "Unless explicitly silenced.\n",
      "In the face of ambiguity, refuse the temptation to guess.\n",
      "There should be one-- and preferably only one --obvious way to do it.\n",
      "Although that way may not be obvious at first unless you're Dutch.\n",
      "Now is better than never.\n",
      "Although never is often better than *right* now.\n",
      "If the implementation is hard to explain, it's a bad idea.\n",
      "If the implementation is easy to explain, it may be a good idea.\n",
      "Namespaces are one honking great idea -- let's do more of those!\n"
     ]
    }
   ],
   "source": [
    "import this"
   ]
  },
  {
   "cell_type": "markdown",
   "metadata": {},
   "source": [
    "Or if you want some more concrete advice about conventions, there is an official [style guide](https://www.python.org/dev/peps/pep-0008/)."
   ]
  }
 ],
 "metadata": {
  "kernelspec": {
   "display_name": "Python 3",
   "language": "python",
   "name": "python3"
  },
  "language_info": {
   "codemirror_mode": {
    "name": "ipython",
    "version": 3
   },
   "file_extension": ".py",
   "mimetype": "text/x-python",
   "name": "python",
   "nbconvert_exporter": "python",
   "pygments_lexer": "ipython3",
   "version": "3.5.0"
  }
 },
 "nbformat": 4,
 "nbformat_minor": 0
}
